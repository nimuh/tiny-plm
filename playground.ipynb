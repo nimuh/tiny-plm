{
 "cells": [
  {
   "cell_type": "code",
   "execution_count": 1,
   "metadata": {},
   "outputs": [],
   "source": [
    "from tiny_plm.model import SelfAttention\n",
    "from tiny_plm.config import PLMConfig\n",
    "import torch\n",
    "import pandas as pd"
   ]
  },
  {
   "cell_type": "code",
   "execution_count": 2,
   "metadata": {},
   "outputs": [],
   "source": [
    "config = PLMConfig(n_head=8)\n",
    "attn_module = SelfAttention(config)\n",
    "\n",
    "x = torch.rand(1, 10, 256)\n",
    "y = attn_module(x)"
   ]
  },
  {
   "cell_type": "code",
   "execution_count": 30,
   "metadata": {},
   "outputs": [],
   "source": [
    "AA_to_idx = {}\n",
    "AA_to_idx['A'] = 0\n",
    "AA_to_idx['R'] = 1\n",
    "AA_to_idx['N'] = 2\n",
    "AA_to_idx['D'] = 3\n",
    "AA_to_idx['C'] = 4\n",
    "AA_to_idx['Q'] = 5\n",
    "AA_to_idx['E'] = 6\n",
    "AA_to_idx['G'] = 7\n",
    "AA_to_idx['H'] = 8\n",
    "AA_to_idx['I'] = 9\n",
    "AA_to_idx['L'] = 10\n",
    "AA_to_idx['K'] = 11\n",
    "AA_to_idx['M'] = 12\n",
    "AA_to_idx['F'] = 13\n",
    "AA_to_idx['P'] = 14\n",
    "AA_to_idx['S'] = 15\n",
    "AA_to_idx['T'] = 16\n",
    "AA_to_idx['W'] = 17\n",
    "AA_to_idx['Y'] = 18\n",
    "AA_to_idx['V'] = 19\n"
   ]
  },
  {
   "cell_type": "code",
   "execution_count": 4,
   "metadata": {},
   "outputs": [],
   "source": [
    "seqs = pd.read_csv('data/prok.csv', nrows=10)"
   ]
  },
  {
   "cell_type": "code",
   "execution_count": 35,
   "metadata": {},
   "outputs": [],
   "source": [
    "seq = seqs.iloc[0].sequence"
   ]
  },
  {
   "cell_type": "code",
   "execution_count": 36,
   "metadata": {},
   "outputs": [],
   "source": [
    "toks = [AA_to_idx[a] for a in seq]"
   ]
  },
  {
   "cell_type": "code",
   "execution_count": 37,
   "metadata": {},
   "outputs": [
    {
     "data": {
      "text/plain": [
       "[12, 11, 1, 9, 15, 16, 16, 9, 16, 16, 16, 9, 16, 9, 16, 16, 7, 2, 7, 0, 7]"
      ]
     },
     "execution_count": 37,
     "metadata": {},
     "output_type": "execute_result"
    }
   ],
   "source": [
    "toks"
   ]
  },
  {
   "cell_type": "code",
   "execution_count": 38,
   "metadata": {},
   "outputs": [
    {
     "name": "stdout",
     "output_type": "stream",
     "text": [
      "[(4, (16, 16)), (3, (16, 9)), (3, (9, 16)), (1, (16, 7)), (1, (15, 16)), (1, (12, 11)), (1, (11, 1)), (1, (9, 15)), (1, (7, 2)), (1, (7, 0)), (1, (2, 7)), (1, (1, 9)), (1, (0, 7))]\n"
     ]
    }
   ],
   "source": [
    "def get_stats(ids):\n",
    "    counts = {}\n",
    "    for pair in zip(ids, ids[1:]):\n",
    "        counts[pair] = counts.get(pair, 0) + 1\n",
    "    return counts\n",
    "\n",
    "stats = get_stats(toks)\n",
    "print(sorted( ((v, k) for k, v in stats.items()), reverse=True))"
   ]
  },
  {
   "cell_type": "code",
   "execution_count": 39,
   "metadata": {},
   "outputs": [
    {
     "data": {
      "text/plain": [
       "(16, 16)"
      ]
     },
     "execution_count": 39,
     "metadata": {},
     "output_type": "execute_result"
    }
   ],
   "source": [
    "top_pair = max(stats, key=stats.get)\n",
    "top_pair"
   ]
  },
  {
   "cell_type": "code",
   "execution_count": 40,
   "metadata": {},
   "outputs": [
    {
     "data": {
      "text/plain": [
       "21"
      ]
     },
     "execution_count": 40,
     "metadata": {},
     "output_type": "execute_result"
    }
   ],
   "source": [
    "len(seqs.iloc[0].sequence)"
   ]
  },
  {
   "cell_type": "code",
   "execution_count": 41,
   "metadata": {},
   "outputs": [],
   "source": [
    "def merge(ids, pair, idx):\n",
    "    new_ids = []\n",
    "    i = 0\n",
    "    while i < len(ids):\n",
    "        if i < len(ids) - 1 and ids[i] == pair[0] and ids[i+1] == pair[1]:\n",
    "            new_ids.append(idx)\n",
    "            i += 2\n",
    "        else:\n",
    "            new_ids.append(ids[i])\n",
    "            i += 1\n",
    "    return new_ids"
   ]
  },
  {
   "cell_type": "code",
   "execution_count": 42,
   "metadata": {},
   "outputs": [
    {
     "data": {
      "text/plain": [
       "[12, 11, 1, 9, 15, 20, 9, 20, 16, 9, 16, 9, 20, 7, 2, 7, 0, 7]"
      ]
     },
     "execution_count": 42,
     "metadata": {},
     "output_type": "execute_result"
    }
   ],
   "source": [
    "merge(toks, top_pair, 20)"
   ]
  },
  {
   "cell_type": "code",
   "execution_count": 44,
   "metadata": {},
   "outputs": [],
   "source": [
    "def bpe(tokens, vocab_size=10):\n",
    "    num_merges = 20 - vocab_size\n",
    "    ids = list(tokens)\n",
    "    merges = {}\n",
    "    for i in range(num_merges):\n",
    "        stats = get_stats(ids)\n",
    "        pair = max(stats, key=stats.get)\n",
    "        idx = 21 + i\n",
    "        print(f\"merging {pair} into {idx}\")\n",
    "        ids = merge(ids, pair, idx)\n",
    "        merges[pair] = idx"
   ]
  },
  {
   "cell_type": "code",
   "execution_count": 45,
   "metadata": {},
   "outputs": [
    {
     "name": "stdout",
     "output_type": "stream",
     "text": [
      "merging (16, 16) into 21\n",
      "merging (9, 21) into 22\n",
      "merging (12, 11) into 23\n",
      "merging (23, 1) into 24\n",
      "merging (24, 9) into 25\n",
      "merging (25, 15) into 26\n",
      "merging (26, 21) into 27\n",
      "merging (27, 22) into 28\n",
      "merging (28, 16) into 29\n",
      "merging (29, 9) into 30\n"
     ]
    }
   ],
   "source": [
    "bpe(toks)"
   ]
  },
  {
   "cell_type": "markdown",
   "metadata": {},
   "source": [
    "## decoding bpe"
   ]
  },
  {
   "cell_type": "code",
   "execution_count": null,
   "metadata": {},
   "outputs": [],
   "source": []
  }
 ],
 "metadata": {
  "kernelspec": {
   "display_name": "nlp",
   "language": "python",
   "name": "python3"
  },
  "language_info": {
   "codemirror_mode": {
    "name": "ipython",
    "version": 3
   },
   "file_extension": ".py",
   "mimetype": "text/x-python",
   "name": "python",
   "nbconvert_exporter": "python",
   "pygments_lexer": "ipython3",
   "version": "3.10.9"
  }
 },
 "nbformat": 4,
 "nbformat_minor": 2
}
